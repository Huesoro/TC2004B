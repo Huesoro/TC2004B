{
  "cells": [
    {
      "cell_type": "markdown",
      "metadata": {},
      "source": [
        "Ricardo Kaleb Flores Alfonso"
      ]
    },
    {
      "cell_type": "markdown",
      "metadata": {
        "id": "m4m5gdlzptmb"
      },
      "source": [
        "# Data Cleaning: Handling missing Values"
      ]
    },
    {
      "cell_type": "code",
      "execution_count": 8,
      "metadata": {
        "id": "1XDzN7Elptmc"
      },
      "outputs": [],
      "source": [
        "# We’re going to be looking at how to deal with missing values :D\n",
        "# To get started, Download the required Dataset which I’m going to use in this tutorial"
      ]
    },
    {
      "cell_type": "code",
      "execution_count": 9,
      "metadata": {
        "id": "doNWFPnoptmg"
      },
      "outputs": [],
      "source": [
        "# Import the libs we will use\n",
        "import pandas as pd\n",
        "import numpy as np"
      ]
    },
    {
      "cell_type": "code",
      "execution_count": 10,
      "metadata": {
        "colab": {
          "base_uri": "https://localhost:8080/",
          "height": 342
        },
        "id": "Dc2NHAo7ptmi",
        "outputId": "7e56a1d5-af1a-4dd2-a58c-6c2e61c567f2"
      },
      "outputs": [
        {
          "name": "stderr",
          "output_type": "stream",
          "text": [
            "C:\\Users\\progra.DESKTOP-GV4Q93K\\AppData\\Local\\Temp\\ipykernel_2460\\2845440133.py:4: DtypeWarning: Columns (25,51) have mixed types. Specify dtype option on import or set low_memory=False.\n",
            "  nfl_data = pd.read_csv(\"NFL Play by Play 2009-2017.csv\")\n"
          ]
        },
        {
          "data": {
            "text/html": [
              "<div>\n",
              "<style scoped>\n",
              "    .dataframe tbody tr th:only-of-type {\n",
              "        vertical-align: middle;\n",
              "    }\n",
              "\n",
              "    .dataframe tbody tr th {\n",
              "        vertical-align: top;\n",
              "    }\n",
              "\n",
              "    .dataframe thead th {\n",
              "        text-align: right;\n",
              "    }\n",
              "</style>\n",
              "<table border=\"1\" class=\"dataframe\">\n",
              "  <thead>\n",
              "    <tr style=\"text-align: right;\">\n",
              "      <th></th>\n",
              "      <th>Date</th>\n",
              "      <th>GameID</th>\n",
              "      <th>Drive</th>\n",
              "      <th>qtr</th>\n",
              "      <th>down</th>\n",
              "      <th>time</th>\n",
              "      <th>TimeUnder</th>\n",
              "      <th>TimeSecs</th>\n",
              "      <th>PlayTimeDiff</th>\n",
              "      <th>SideofField</th>\n",
              "      <th>...</th>\n",
              "      <th>yacEPA</th>\n",
              "      <th>Home_WP_pre</th>\n",
              "      <th>Away_WP_pre</th>\n",
              "      <th>Home_WP_post</th>\n",
              "      <th>Away_WP_post</th>\n",
              "      <th>Win_Prob</th>\n",
              "      <th>WPA</th>\n",
              "      <th>airWPA</th>\n",
              "      <th>yacWPA</th>\n",
              "      <th>Season</th>\n",
              "    </tr>\n",
              "  </thead>\n",
              "  <tbody>\n",
              "    <tr>\n",
              "      <th>0</th>\n",
              "      <td>2009-09-10</td>\n",
              "      <td>2009091000</td>\n",
              "      <td>1</td>\n",
              "      <td>1</td>\n",
              "      <td>NaN</td>\n",
              "      <td>15:00</td>\n",
              "      <td>15</td>\n",
              "      <td>3600.0</td>\n",
              "      <td>0.0</td>\n",
              "      <td>TEN</td>\n",
              "      <td>...</td>\n",
              "      <td>NaN</td>\n",
              "      <td>0.485675</td>\n",
              "      <td>0.514325</td>\n",
              "      <td>0.546433</td>\n",
              "      <td>0.453567</td>\n",
              "      <td>0.485675</td>\n",
              "      <td>0.060758</td>\n",
              "      <td>NaN</td>\n",
              "      <td>NaN</td>\n",
              "      <td>2009</td>\n",
              "    </tr>\n",
              "    <tr>\n",
              "      <th>1</th>\n",
              "      <td>2009-09-10</td>\n",
              "      <td>2009091000</td>\n",
              "      <td>1</td>\n",
              "      <td>1</td>\n",
              "      <td>1.0</td>\n",
              "      <td>14:53</td>\n",
              "      <td>15</td>\n",
              "      <td>3593.0</td>\n",
              "      <td>7.0</td>\n",
              "      <td>PIT</td>\n",
              "      <td>...</td>\n",
              "      <td>1.146076</td>\n",
              "      <td>0.546433</td>\n",
              "      <td>0.453567</td>\n",
              "      <td>0.551088</td>\n",
              "      <td>0.448912</td>\n",
              "      <td>0.546433</td>\n",
              "      <td>0.004655</td>\n",
              "      <td>-0.032244</td>\n",
              "      <td>0.036899</td>\n",
              "      <td>2009</td>\n",
              "    </tr>\n",
              "    <tr>\n",
              "      <th>2</th>\n",
              "      <td>2009-09-10</td>\n",
              "      <td>2009091000</td>\n",
              "      <td>1</td>\n",
              "      <td>1</td>\n",
              "      <td>2.0</td>\n",
              "      <td>14:16</td>\n",
              "      <td>15</td>\n",
              "      <td>3556.0</td>\n",
              "      <td>37.0</td>\n",
              "      <td>PIT</td>\n",
              "      <td>...</td>\n",
              "      <td>NaN</td>\n",
              "      <td>0.551088</td>\n",
              "      <td>0.448912</td>\n",
              "      <td>0.510793</td>\n",
              "      <td>0.489207</td>\n",
              "      <td>0.551088</td>\n",
              "      <td>-0.040295</td>\n",
              "      <td>NaN</td>\n",
              "      <td>NaN</td>\n",
              "      <td>2009</td>\n",
              "    </tr>\n",
              "    <tr>\n",
              "      <th>3</th>\n",
              "      <td>2009-09-10</td>\n",
              "      <td>2009091000</td>\n",
              "      <td>1</td>\n",
              "      <td>1</td>\n",
              "      <td>3.0</td>\n",
              "      <td>13:35</td>\n",
              "      <td>14</td>\n",
              "      <td>3515.0</td>\n",
              "      <td>41.0</td>\n",
              "      <td>PIT</td>\n",
              "      <td>...</td>\n",
              "      <td>-5.031425</td>\n",
              "      <td>0.510793</td>\n",
              "      <td>0.489207</td>\n",
              "      <td>0.461217</td>\n",
              "      <td>0.538783</td>\n",
              "      <td>0.510793</td>\n",
              "      <td>-0.049576</td>\n",
              "      <td>0.106663</td>\n",
              "      <td>-0.156239</td>\n",
              "      <td>2009</td>\n",
              "    </tr>\n",
              "    <tr>\n",
              "      <th>4</th>\n",
              "      <td>2009-09-10</td>\n",
              "      <td>2009091000</td>\n",
              "      <td>1</td>\n",
              "      <td>1</td>\n",
              "      <td>4.0</td>\n",
              "      <td>13:27</td>\n",
              "      <td>14</td>\n",
              "      <td>3507.0</td>\n",
              "      <td>8.0</td>\n",
              "      <td>PIT</td>\n",
              "      <td>...</td>\n",
              "      <td>NaN</td>\n",
              "      <td>0.461217</td>\n",
              "      <td>0.538783</td>\n",
              "      <td>0.558929</td>\n",
              "      <td>0.441071</td>\n",
              "      <td>0.461217</td>\n",
              "      <td>0.097712</td>\n",
              "      <td>NaN</td>\n",
              "      <td>NaN</td>\n",
              "      <td>2009</td>\n",
              "    </tr>\n",
              "  </tbody>\n",
              "</table>\n",
              "<p>5 rows × 102 columns</p>\n",
              "</div>"
            ],
            "text/plain": [
              "         Date      GameID  Drive  qtr  down   time  TimeUnder  TimeSecs  \\\n",
              "0  2009-09-10  2009091000      1    1   NaN  15:00         15    3600.0   \n",
              "1  2009-09-10  2009091000      1    1   1.0  14:53         15    3593.0   \n",
              "2  2009-09-10  2009091000      1    1   2.0  14:16         15    3556.0   \n",
              "3  2009-09-10  2009091000      1    1   3.0  13:35         14    3515.0   \n",
              "4  2009-09-10  2009091000      1    1   4.0  13:27         14    3507.0   \n",
              "\n",
              "   PlayTimeDiff SideofField  ...    yacEPA  Home_WP_pre  Away_WP_pre  \\\n",
              "0           0.0         TEN  ...       NaN     0.485675     0.514325   \n",
              "1           7.0         PIT  ...  1.146076     0.546433     0.453567   \n",
              "2          37.0         PIT  ...       NaN     0.551088     0.448912   \n",
              "3          41.0         PIT  ... -5.031425     0.510793     0.489207   \n",
              "4           8.0         PIT  ...       NaN     0.461217     0.538783   \n",
              "\n",
              "   Home_WP_post  Away_WP_post  Win_Prob       WPA    airWPA    yacWPA  Season  \n",
              "0      0.546433      0.453567  0.485675  0.060758       NaN       NaN    2009  \n",
              "1      0.551088      0.448912  0.546433  0.004655 -0.032244  0.036899    2009  \n",
              "2      0.510793      0.489207  0.551088 -0.040295       NaN       NaN    2009  \n",
              "3      0.461217      0.538783  0.510793 -0.049576  0.106663 -0.156239    2009  \n",
              "4      0.558929      0.441071  0.461217  0.097712       NaN       NaN    2009  \n",
              "\n",
              "[5 rows x 102 columns]"
            ]
          },
          "execution_count": 10,
          "metadata": {},
          "output_type": "execute_result"
        }
      ],
      "source": [
        "# read in all our data\n",
        "\n",
        "# Detailed NFL Play-by-Play Data 2009-2017\n",
        "nfl_data = pd.read_csv(\"NFL Play by Play 2009-2017.csv\")\n",
        "\n",
        "nfl_data.head(5)\n",
        "\n",
        "# With low_memory=True (default behavior):\n",
        "# - Pandas will read the file in chunks, analyzing each chunk to determine the best data types for each column.\n",
        "#   This can be memory-efficient for large files because it doesn't load the entire file into memory at once.\n",
        "# - However, because it reads the data in chunks, Pandas may not accurately infer the data types for each column,\n",
        "#   especially if the data types change within the file or if there's missing data.\n",
        "# - This approach is suitable for conserving memory but may result in slower performance and potential errors in data type inference.\n",
        "\n",
        "# With low_memory=False:\n",
        "# - Pandas will read the entire file into memory at once, allowing it to analyze the entire dataset before inferring data types.\n",
        "# - This can be faster and more accurate for inferring data types, especially with mixed data types or complex datasets.\n",
        "# - However, it requires more memory, so it's only suitable for files that can comfortably fit into memory without causing memory errors.\n"
      ]
    },
    {
      "cell_type": "code",
      "execution_count": 11,
      "metadata": {
        "colab": {
          "base_uri": "https://localhost:8080/",
          "height": 293
        },
        "id": "Zhdi5efJptml",
        "outputId": "29b30660-39ce-4236-96a8-03a7e8e88f58"
      },
      "outputs": [
        {
          "data": {
            "text/html": [
              "<div>\n",
              "<style scoped>\n",
              "    .dataframe tbody tr th:only-of-type {\n",
              "        vertical-align: middle;\n",
              "    }\n",
              "\n",
              "    .dataframe tbody tr th {\n",
              "        vertical-align: top;\n",
              "    }\n",
              "\n",
              "    .dataframe thead th {\n",
              "        text-align: right;\n",
              "    }\n",
              "</style>\n",
              "<table border=\"1\" class=\"dataframe\">\n",
              "  <thead>\n",
              "    <tr style=\"text-align: right;\">\n",
              "      <th></th>\n",
              "      <th>Date</th>\n",
              "      <th>GameID</th>\n",
              "      <th>Drive</th>\n",
              "      <th>qtr</th>\n",
              "      <th>down</th>\n",
              "      <th>time</th>\n",
              "      <th>TimeUnder</th>\n",
              "      <th>TimeSecs</th>\n",
              "      <th>PlayTimeDiff</th>\n",
              "      <th>SideofField</th>\n",
              "      <th>...</th>\n",
              "      <th>yacEPA</th>\n",
              "      <th>Home_WP_pre</th>\n",
              "      <th>Away_WP_pre</th>\n",
              "      <th>Home_WP_post</th>\n",
              "      <th>Away_WP_post</th>\n",
              "      <th>Win_Prob</th>\n",
              "      <th>WPA</th>\n",
              "      <th>airWPA</th>\n",
              "      <th>yacWPA</th>\n",
              "      <th>Season</th>\n",
              "    </tr>\n",
              "  </thead>\n",
              "  <tbody>\n",
              "    <tr>\n",
              "      <th>148748</th>\n",
              "      <td>2012-10-14</td>\n",
              "      <td>2012101403</td>\n",
              "      <td>16</td>\n",
              "      <td>3</td>\n",
              "      <td>1.0</td>\n",
              "      <td>13:09</td>\n",
              "      <td>14</td>\n",
              "      <td>1689.0</td>\n",
              "      <td>8.0</td>\n",
              "      <td>CLE</td>\n",
              "      <td>...</td>\n",
              "      <td>NaN</td>\n",
              "      <td>0.238102</td>\n",
              "      <td>0.761898</td>\n",
              "      <td>0.223664</td>\n",
              "      <td>0.776336</td>\n",
              "      <td>0.238102</td>\n",
              "      <td>-0.014439</td>\n",
              "      <td>NaN</td>\n",
              "      <td>NaN</td>\n",
              "      <td>2012</td>\n",
              "    </tr>\n",
              "    <tr>\n",
              "      <th>406759</th>\n",
              "      <td>2017-12-31</td>\n",
              "      <td>2017123110</td>\n",
              "      <td>1</td>\n",
              "      <td>1</td>\n",
              "      <td>1.0</td>\n",
              "      <td>14:11</td>\n",
              "      <td>15</td>\n",
              "      <td>3551.0</td>\n",
              "      <td>26.0</td>\n",
              "      <td>TB</td>\n",
              "      <td>...</td>\n",
              "      <td>NaN</td>\n",
              "      <td>0.546739</td>\n",
              "      <td>0.453261</td>\n",
              "      <td>0.577553</td>\n",
              "      <td>0.422447</td>\n",
              "      <td>0.546739</td>\n",
              "      <td>0.030814</td>\n",
              "      <td>NaN</td>\n",
              "      <td>NaN</td>\n",
              "      <td>2017</td>\n",
              "    </tr>\n",
              "    <tr>\n",
              "      <th>12702</th>\n",
              "      <td>2009-10-11</td>\n",
              "      <td>2009101109</td>\n",
              "      <td>4</td>\n",
              "      <td>1</td>\n",
              "      <td>1.0</td>\n",
              "      <td>05:01</td>\n",
              "      <td>6</td>\n",
              "      <td>3001.0</td>\n",
              "      <td>36.0</td>\n",
              "      <td>ARI</td>\n",
              "      <td>...</td>\n",
              "      <td>1.066975</td>\n",
              "      <td>0.789929</td>\n",
              "      <td>0.210071</td>\n",
              "      <td>0.812573</td>\n",
              "      <td>0.187427</td>\n",
              "      <td>0.789929</td>\n",
              "      <td>0.022643</td>\n",
              "      <td>-0.002511</td>\n",
              "      <td>0.025154</td>\n",
              "      <td>2009</td>\n",
              "    </tr>\n",
              "    <tr>\n",
              "      <th>387589</th>\n",
              "      <td>2017-11-12</td>\n",
              "      <td>2017111208</td>\n",
              "      <td>13</td>\n",
              "      <td>2</td>\n",
              "      <td>1.0</td>\n",
              "      <td>00:14</td>\n",
              "      <td>1</td>\n",
              "      <td>1814.0</td>\n",
              "      <td>0.0</td>\n",
              "      <td>HOU</td>\n",
              "      <td>...</td>\n",
              "      <td>NaN</td>\n",
              "      <td>0.558718</td>\n",
              "      <td>0.441282</td>\n",
              "      <td>0.582077</td>\n",
              "      <td>0.417923</td>\n",
              "      <td>0.441282</td>\n",
              "      <td>-0.023359</td>\n",
              "      <td>NaN</td>\n",
              "      <td>NaN</td>\n",
              "      <td>2017</td>\n",
              "    </tr>\n",
              "  </tbody>\n",
              "</table>\n",
              "<p>4 rows × 102 columns</p>\n",
              "</div>"
            ],
            "text/plain": [
              "              Date      GameID  Drive  qtr  down   time  TimeUnder  TimeSecs  \\\n",
              "148748  2012-10-14  2012101403     16    3   1.0  13:09         14    1689.0   \n",
              "406759  2017-12-31  2017123110      1    1   1.0  14:11         15    3551.0   \n",
              "12702   2009-10-11  2009101109      4    1   1.0  05:01          6    3001.0   \n",
              "387589  2017-11-12  2017111208     13    2   1.0  00:14          1    1814.0   \n",
              "\n",
              "        PlayTimeDiff SideofField  ...    yacEPA  Home_WP_pre  Away_WP_pre  \\\n",
              "148748           8.0         CLE  ...       NaN     0.238102     0.761898   \n",
              "406759          26.0          TB  ...       NaN     0.546739     0.453261   \n",
              "12702           36.0         ARI  ...  1.066975     0.789929     0.210071   \n",
              "387589           0.0         HOU  ...       NaN     0.558718     0.441282   \n",
              "\n",
              "        Home_WP_post  Away_WP_post  Win_Prob       WPA    airWPA    yacWPA  \\\n",
              "148748      0.223664      0.776336  0.238102 -0.014439       NaN       NaN   \n",
              "406759      0.577553      0.422447  0.546739  0.030814       NaN       NaN   \n",
              "12702       0.812573      0.187427  0.789929  0.022643 -0.002511  0.025154   \n",
              "387589      0.582077      0.417923  0.441282 -0.023359       NaN       NaN   \n",
              "\n",
              "        Season  \n",
              "148748    2012  \n",
              "406759    2017  \n",
              "12702     2009  \n",
              "387589    2017  \n",
              "\n",
              "[4 rows x 102 columns]"
            ]
          },
          "execution_count": 11,
          "metadata": {},
          "output_type": "execute_result"
        }
      ],
      "source": [
        "# getting a sample\n",
        "sample= nfl_data.sample(4)\n",
        "\n",
        "sample\n",
        "# The .sample() method in Pandas is used to get a random sample of rows from a DataFrame.\n",
        "# In your code, nfl_data.sample(4) will return a DataFrame containing 4 randomly selected rows from the nfl_data DataFrame.\n",
        "# This method is often used for exploratory data analysis or to quickly inspect a small subset of the data\n",
        "# without having to go through the entire dataset. It's useful for understanding the structure of the data,\n",
        "# identifying potential patterns or anomalies, and making preliminary assessments.\n"
      ]
    },
    {
      "cell_type": "code",
      "execution_count": 32,
      "metadata": {
        "colab": {
          "base_uri": "https://localhost:8080/"
        },
        "id": "Aj7nax-Wptmn",
        "outputId": "3e50070a-0ced-48d9-a24b-4b2855f3c5f4"
      },
      "outputs": [
        {
          "data": {
            "text/plain": [
              "Date                0\n",
              "GameID              0\n",
              "Drive               0\n",
              "qtr                 0\n",
              "down            61154\n",
              "time              224\n",
              "TimeUnder           0\n",
              "TimeSecs          224\n",
              "PlayTimeDiff      444\n",
              "SideofField       528\n",
              "dtype: int64"
            ]
          },
          "execution_count": 32,
          "metadata": {},
          "output_type": "execute_result"
        }
      ],
      "source": [
        "# This code calculates the number of missing data points (NaN or null values) per column in a DataFrame.\n",
        "\n",
        "\n",
        "# get the number of missing data point per column\n",
        "\n",
        "# It first uses the .isnull() method to create a DataFrame of the same shape as nfl_data,\n",
        "# where each cell is True if the corresponding cell in nfl_data is null and False otherwise.\n",
        "# Then, the .sum() method is applied to sum up these boolean values for each column,\n",
        "# effectively counting the number of True values (missing/null values) in each column.\n",
        "# The result is stored in the missing_values_count Series, where the index represents the column names,\n",
        "# and the values represent the number of missing values in each column.\n",
        "\n",
        "missing_values_count = nfl_data.isnull().sum()\n",
        "\n",
        "# look at the number of missing points in the first ten columns\n",
        "missing_values_count[0:10]\n",
        "\n",
        "\n",
        "\n",
        "\n",
        "# The next line slices the missing_values_count Series to only include the first ten rows.\n",
        "# This is achieved using the [0:10] slicing operation, which selects the first ten elements of the Series based on their index (column names).\n",
        "# The result is a new Series containing the counts of missing values for the first ten columns of the DataFrame.\n"
      ]
    },
    {
      "cell_type": "code",
      "execution_count": 13,
      "metadata": {
        "id": "DGALhEQkptmq"
      },
      "outputs": [],
      "source": [
        "# That seems like a lot! It might be helpful to see what percentage of the values in our dataset\n",
        "# were missing to give us a better sense of the scale of this problem\n",
        "\n",
        "# how many total missing values do we have?\n",
        "\n",
        "# Calculate the total number of cells in the 'nfl_data' dataset\n",
        "# by taking the product of its shape which represents the number of rows and columns\n",
        "total_cells = np.product(nfl_data.shape)\n",
        "\n",
        "# Calculate the total number of missing values in the 'nfl_data' dataset\n",
        "# by summing up all the missing values count across different columns\n",
        "total_missing = missing_values_count.sum()\n",
        "\n",
        "\n"
      ]
    },
    {
      "cell_type": "code",
      "execution_count": 14,
      "metadata": {
        "colab": {
          "base_uri": "https://localhost:8080/"
        },
        "id": "34I_GSgmLthW",
        "outputId": "c24f1f82-ed06-4d5d-a046-ffd2314abaf7"
      },
      "outputs": [
        {
          "data": {
            "text/plain": [
              "24.87214126835169"
            ]
          },
          "execution_count": 14,
          "metadata": {},
          "output_type": "execute_result"
        }
      ],
      "source": [
        "# percent of data that is missing\n",
        "(total_missing/total_cells) * 100"
      ]
    },
    {
      "cell_type": "code",
      "execution_count": 15,
      "metadata": {
        "id": "8BRlpyllptms"
      },
      "outputs": [],
      "source": [
        "# Almost a quarter of the cells in this dataset are empty!"
      ]
    },
    {
      "cell_type": "markdown",
      "metadata": {},
      "source": [
        "## Resumen\n",
        "En esta sección se importaron las librerias necesarias, se importó el dataset y se realizó un pequeño analisis de los datos que se tienen. Esto se consiguio a traves de una muestra aleatoria y los primeros 5 datos, se observaron datos faltantes, por lo que se usó el metodo .isnull().sum() para obtener cuantos datos faltaban por columna. Se observó una alta cantidad de datos faltantes en las primeras 10 columnas, asi que se sumaron todos los valores nulos para descubrir cual es la cantidad de datos que faltan del total. Esta cantidad fue de 24.8% lo cual es una alta cantidad de datos."
      ]
    },
    {
      "cell_type": "markdown",
      "metadata": {
        "id": "A8y4vPMXptmu"
      },
      "source": [
        "# Figure out why the data is missing\n",
        "\n",
        "Is this value missing because it was not recorded or because it does not exist?\n",
        "\n",
        "If a value is missing because it does not exist\n",
        "    Example:\n",
        "        the height of the oldest child of someone who doesn’t have any children\n",
        "        PenalizedTeam: falta el campo porque si no hubo penalización\n",
        "It doesn’t make sense to try and guess what it might be\n",
        "\n",
        "\n",
        "If a value is missing because it was not recorded\n",
        "    Example:\n",
        "        temperature a certain hour\n",
        "        TimeSecs: cantidad de segundos que quedan en el juego cuando se realizó la jugada.\n",
        "You can try to guess what it might have been based on the other values in that column and row\n",
        "\n",
        "\n",
        "If you’re doing very careful data analysis, this is the point at which you’d look at each column individually to figure out the best strategy for filling those missing values."
      ]
    },
    {
      "cell_type": "markdown",
      "metadata": {
        "id": "aUZhSmLjptmv"
      },
      "source": [
        "# Drop missing values"
      ]
    },
    {
      "cell_type": "code",
      "execution_count": 33,
      "metadata": {
        "colab": {
          "base_uri": "https://localhost:8080/",
          "height": 175
        },
        "id": "uR-d0ZgGptmv",
        "outputId": "942e47dc-aeb8-403e-f050-79abd4b570d7"
      },
      "outputs": [
        {
          "data": {
            "text/html": [
              "<div>\n",
              "<style scoped>\n",
              "    .dataframe tbody tr th:only-of-type {\n",
              "        vertical-align: middle;\n",
              "    }\n",
              "\n",
              "    .dataframe tbody tr th {\n",
              "        vertical-align: top;\n",
              "    }\n",
              "\n",
              "    .dataframe thead th {\n",
              "        text-align: right;\n",
              "    }\n",
              "</style>\n",
              "<table border=\"1\" class=\"dataframe\">\n",
              "  <thead>\n",
              "    <tr style=\"text-align: right;\">\n",
              "      <th></th>\n",
              "      <th>0</th>\n",
              "      <th>1</th>\n",
              "      <th>2</th>\n",
              "    </tr>\n",
              "  </thead>\n",
              "  <tbody>\n",
              "    <tr>\n",
              "      <th>0</th>\n",
              "      <td>1.0</td>\n",
              "      <td>NaN</td>\n",
              "      <td>2</td>\n",
              "    </tr>\n",
              "    <tr>\n",
              "      <th>1</th>\n",
              "      <td>2.0</td>\n",
              "      <td>3.0</td>\n",
              "      <td>5</td>\n",
              "    </tr>\n",
              "    <tr>\n",
              "      <th>2</th>\n",
              "      <td>2.0</td>\n",
              "      <td>3.0</td>\n",
              "      <td>5</td>\n",
              "    </tr>\n",
              "    <tr>\n",
              "      <th>3</th>\n",
              "      <td>NaN</td>\n",
              "      <td>4.0</td>\n",
              "      <td>6</td>\n",
              "    </tr>\n",
              "  </tbody>\n",
              "</table>\n",
              "</div>"
            ],
            "text/plain": [
              "     0    1  2\n",
              "0  1.0  NaN  2\n",
              "1  2.0  3.0  5\n",
              "2  2.0  3.0  5\n",
              "3  NaN  4.0  6"
            ]
          },
          "execution_count": 33,
          "metadata": {},
          "output_type": "execute_result"
        }
      ],
      "source": [
        "# Create a DataFrame 'df' with the provided data:\n",
        "# - The first row contains values 1, NaN (missing value), and 2\n",
        "# - The second row contains values 2, 3, and 5\n",
        "# - The third row contains values 2, 3, and 5 (same as the second row)\n",
        "# - The fourth row contains NaN (missing value), 4, and 6\n",
        "# The DataFrame 'df' is then displayed, showing the structure and values.\n",
        "\n",
        "df = pd.DataFrame([[1,      np.nan, 2],\n",
        "                   [2,      3,      5],\n",
        "                    [2,      3,      5],\n",
        "                   [np.nan, 4,      6]])\n",
        "\n",
        "df"
      ]
    },
    {
      "cell_type": "code",
      "execution_count": 34,
      "metadata": {
        "colab": {
          "base_uri": "https://localhost:8080/"
        },
        "id": "7EkostnKptm1",
        "outputId": "d810bc00-6bc5-43bc-e84d-5934edc9c947"
      },
      "outputs": [
        {
          "name": "stdout",
          "output_type": "stream",
          "text": [
            "<class 'pandas.core.frame.DataFrame'>\n",
            "RangeIndex: 4 entries, 0 to 3\n",
            "Data columns (total 3 columns):\n",
            " #   Column  Non-Null Count  Dtype  \n",
            "---  ------  --------------  -----  \n",
            " 0   0       3 non-null      float64\n",
            " 1   1       3 non-null      float64\n",
            " 2   2       4 non-null      int64  \n",
            "dtypes: float64(2), int64(1)\n",
            "memory usage: 224.0 bytes\n"
          ]
        }
      ],
      "source": [
        "# This will tell us the total number of non null observations present including the total number of entries.\n",
        "# Once number of entries isn’t equal to number of non null observations, we can begin to suspect missing values.\n",
        "\n",
        "df.info()"
      ]
    },
    {
      "cell_type": "code",
      "execution_count": 18,
      "metadata": {
        "colab": {
          "base_uri": "https://localhost:8080/"
        },
        "id": "Z8YHRJdwptm3",
        "outputId": "ee18aa86-693a-4237-d893-d97dce301368"
      },
      "outputs": [
        {
          "data": {
            "text/plain": [
              "0    1\n",
              "1    1\n",
              "2    0\n",
              "dtype: int64"
            ]
          },
          "execution_count": 18,
          "metadata": {},
          "output_type": "execute_result"
        }
      ],
      "source": [
        "# This will tell us the total number of NaN in or data.\n",
        "df.isnull().sum()"
      ]
    },
    {
      "cell_type": "code",
      "execution_count": 19,
      "metadata": {
        "colab": {
          "base_uri": "https://localhost:8080/",
          "height": 112
        },
        "id": "YpRyQnvsptm5",
        "outputId": "b04357a6-672a-4538-f9ac-a5a9beeb35d8"
      },
      "outputs": [
        {
          "data": {
            "text/html": [
              "<div>\n",
              "<style scoped>\n",
              "    .dataframe tbody tr th:only-of-type {\n",
              "        vertical-align: middle;\n",
              "    }\n",
              "\n",
              "    .dataframe tbody tr th {\n",
              "        vertical-align: top;\n",
              "    }\n",
              "\n",
              "    .dataframe thead th {\n",
              "        text-align: right;\n",
              "    }\n",
              "</style>\n",
              "<table border=\"1\" class=\"dataframe\">\n",
              "  <thead>\n",
              "    <tr style=\"text-align: right;\">\n",
              "      <th></th>\n",
              "      <th>0</th>\n",
              "      <th>1</th>\n",
              "      <th>2</th>\n",
              "    </tr>\n",
              "  </thead>\n",
              "  <tbody>\n",
              "    <tr>\n",
              "      <th>1</th>\n",
              "      <td>2.0</td>\n",
              "      <td>3.0</td>\n",
              "      <td>5</td>\n",
              "    </tr>\n",
              "    <tr>\n",
              "      <th>2</th>\n",
              "      <td>2.0</td>\n",
              "      <td>3.0</td>\n",
              "      <td>5</td>\n",
              "    </tr>\n",
              "  </tbody>\n",
              "</table>\n",
              "</div>"
            ],
            "text/plain": [
              "     0    1  2\n",
              "1  2.0  3.0  5\n",
              "2  2.0  3.0  5"
            ]
          },
          "execution_count": 19,
          "metadata": {},
          "output_type": "execute_result"
        }
      ],
      "source": [
        "# remove all the rows that contain a missing value\n",
        "df.dropna()"
      ]
    },
    {
      "cell_type": "code",
      "execution_count": 20,
      "metadata": {
        "colab": {
          "base_uri": "https://localhost:8080/",
          "height": 175
        },
        "id": "hJMJj7JHptm8",
        "outputId": "05f462d8-6498-4def-9659-1bf4a96fab4b"
      },
      "outputs": [
        {
          "data": {
            "text/html": [
              "<div>\n",
              "<style scoped>\n",
              "    .dataframe tbody tr th:only-of-type {\n",
              "        vertical-align: middle;\n",
              "    }\n",
              "\n",
              "    .dataframe tbody tr th {\n",
              "        vertical-align: top;\n",
              "    }\n",
              "\n",
              "    .dataframe thead th {\n",
              "        text-align: right;\n",
              "    }\n",
              "</style>\n",
              "<table border=\"1\" class=\"dataframe\">\n",
              "  <thead>\n",
              "    <tr style=\"text-align: right;\">\n",
              "      <th></th>\n",
              "      <th>2</th>\n",
              "    </tr>\n",
              "  </thead>\n",
              "  <tbody>\n",
              "    <tr>\n",
              "      <th>0</th>\n",
              "      <td>2</td>\n",
              "    </tr>\n",
              "    <tr>\n",
              "      <th>1</th>\n",
              "      <td>5</td>\n",
              "    </tr>\n",
              "    <tr>\n",
              "      <th>2</th>\n",
              "      <td>5</td>\n",
              "    </tr>\n",
              "    <tr>\n",
              "      <th>3</th>\n",
              "      <td>6</td>\n",
              "    </tr>\n",
              "  </tbody>\n",
              "</table>\n",
              "</div>"
            ],
            "text/plain": [
              "   2\n",
              "0  2\n",
              "1  5\n",
              "2  5\n",
              "3  6"
            ]
          },
          "execution_count": 20,
          "metadata": {},
          "output_type": "execute_result"
        }
      ],
      "source": [
        "# remove columns the rows that contain a missing value\n",
        "# axis{0 or ‘index’, 1 or ‘columns’}\n",
        "df.dropna(axis=1)\n",
        "\n",
        "\n",
        "# Remove columns from the DataFrame 'df' that contain at least one missing value (NaN)\n",
        "# The parameter 'axis=1' specifies that we are operating along columns.\n",
        "# In pandas, axis=0 refers to rows, and axis=1 refers to columns.\n",
        "# Therefore, 'axis=1' indicates that we want to drop columns.\n",
        "# The dropna() function is used to perform this operation."
      ]
    },
    {
      "cell_type": "code",
      "execution_count": 21,
      "metadata": {
        "colab": {
          "base_uri": "https://localhost:8080/",
          "height": 175
        },
        "id": "NHJf-t-Hptm-",
        "outputId": "70146988-c683-4b4c-fd32-21942ec6b373"
      },
      "outputs": [
        {
          "data": {
            "text/html": [
              "<div>\n",
              "<style scoped>\n",
              "    .dataframe tbody tr th:only-of-type {\n",
              "        vertical-align: middle;\n",
              "    }\n",
              "\n",
              "    .dataframe tbody tr th {\n",
              "        vertical-align: top;\n",
              "    }\n",
              "\n",
              "    .dataframe thead th {\n",
              "        text-align: right;\n",
              "    }\n",
              "</style>\n",
              "<table border=\"1\" class=\"dataframe\">\n",
              "  <thead>\n",
              "    <tr style=\"text-align: right;\">\n",
              "      <th></th>\n",
              "      <th>2</th>\n",
              "    </tr>\n",
              "  </thead>\n",
              "  <tbody>\n",
              "    <tr>\n",
              "      <th>0</th>\n",
              "      <td>2</td>\n",
              "    </tr>\n",
              "    <tr>\n",
              "      <th>1</th>\n",
              "      <td>5</td>\n",
              "    </tr>\n",
              "    <tr>\n",
              "      <th>2</th>\n",
              "      <td>5</td>\n",
              "    </tr>\n",
              "    <tr>\n",
              "      <th>3</th>\n",
              "      <td>6</td>\n",
              "    </tr>\n",
              "  </tbody>\n",
              "</table>\n",
              "</div>"
            ],
            "text/plain": [
              "   2\n",
              "0  2\n",
              "1  5\n",
              "2  5\n",
              "3  6"
            ]
          },
          "execution_count": 21,
          "metadata": {},
          "output_type": "execute_result"
        }
      ],
      "source": [
        "df.dropna(axis='columns')"
      ]
    },
    {
      "cell_type": "code",
      "execution_count": 22,
      "metadata": {
        "colab": {
          "base_uri": "https://localhost:8080/",
          "height": 112
        },
        "id": "GgLrTLXzptnA",
        "outputId": "e014c289-30f1-4012-b3c3-8cc351373799"
      },
      "outputs": [
        {
          "data": {
            "text/html": [
              "<div>\n",
              "<style scoped>\n",
              "    .dataframe tbody tr th:only-of-type {\n",
              "        vertical-align: middle;\n",
              "    }\n",
              "\n",
              "    .dataframe tbody tr th {\n",
              "        vertical-align: top;\n",
              "    }\n",
              "\n",
              "    .dataframe thead th {\n",
              "        text-align: right;\n",
              "    }\n",
              "</style>\n",
              "<table border=\"1\" class=\"dataframe\">\n",
              "  <thead>\n",
              "    <tr style=\"text-align: right;\">\n",
              "      <th></th>\n",
              "      <th>0</th>\n",
              "      <th>1</th>\n",
              "      <th>2</th>\n",
              "    </tr>\n",
              "  </thead>\n",
              "  <tbody>\n",
              "    <tr>\n",
              "      <th>1</th>\n",
              "      <td>2.0</td>\n",
              "      <td>3.0</td>\n",
              "      <td>5</td>\n",
              "    </tr>\n",
              "    <tr>\n",
              "      <th>2</th>\n",
              "      <td>2.0</td>\n",
              "      <td>3.0</td>\n",
              "      <td>5</td>\n",
              "    </tr>\n",
              "  </tbody>\n",
              "</table>\n",
              "</div>"
            ],
            "text/plain": [
              "     0    1  2\n",
              "1  2.0  3.0  5\n",
              "2  2.0  3.0  5"
            ]
          },
          "execution_count": 22,
          "metadata": {},
          "output_type": "execute_result"
        }
      ],
      "source": [
        "# remove all the rows with at least\n",
        "# thresh \tRequire that many non-NA values.\n",
        "# Remove rows from the DataFrame 'df' that contain less than 3 non-null values.\n",
        "# The parameter 'axis='rows'' specifies that we are operating along rows.\n",
        "# Here, 'rows' is used to indicate the same as axis=0, where axis=0 refers to rows.\n",
        "# The parameter 'thresh=3' specifies the threshold for non-null values required to keep the row.\n",
        "# Rows with at least 3 non-null values are retained, while rows with fewer than 3 non-null values are dropped.\n",
        "# The dropna() function is used to perform this operation.\n",
        "df.dropna(axis='rows', thresh=3)"
      ]
    },
    {
      "cell_type": "markdown",
      "metadata": {},
      "source": [
        "## Resumen\n",
        "En esta sección se hizo el mismo analisis que en la sección anterior para descubrir cuantos valores faltantes hay. En este caso se usó el metodo .dropna() para eliminar los valores faltantes. Se observó que se pueden eliminar las columnas que tengan al menos un valor faltante o las filas. El metodo tiene como predeterminado eliminar las filas."
      ]
    },
    {
      "cell_type": "markdown",
      "metadata": {
        "id": "T0nBzJEvptnC"
      },
      "source": [
        "# Filling missing values"
      ]
    },
    {
      "cell_type": "code",
      "execution_count": 23,
      "metadata": {
        "colab": {
          "base_uri": "https://localhost:8080/",
          "height": 175
        },
        "id": "VuXOPCDfptnC",
        "outputId": "d1eb31a1-798c-42a6-a776-da2ca898c464"
      },
      "outputs": [
        {
          "data": {
            "text/html": [
              "<div>\n",
              "<style scoped>\n",
              "    .dataframe tbody tr th:only-of-type {\n",
              "        vertical-align: middle;\n",
              "    }\n",
              "\n",
              "    .dataframe tbody tr th {\n",
              "        vertical-align: top;\n",
              "    }\n",
              "\n",
              "    .dataframe thead th {\n",
              "        text-align: right;\n",
              "    }\n",
              "</style>\n",
              "<table border=\"1\" class=\"dataframe\">\n",
              "  <thead>\n",
              "    <tr style=\"text-align: right;\">\n",
              "      <th></th>\n",
              "      <th>0</th>\n",
              "      <th>1</th>\n",
              "      <th>2</th>\n",
              "    </tr>\n",
              "  </thead>\n",
              "  <tbody>\n",
              "    <tr>\n",
              "      <th>0</th>\n",
              "      <td>1.0</td>\n",
              "      <td>NaN</td>\n",
              "      <td>2</td>\n",
              "    </tr>\n",
              "    <tr>\n",
              "      <th>1</th>\n",
              "      <td>2.0</td>\n",
              "      <td>3.0</td>\n",
              "      <td>5</td>\n",
              "    </tr>\n",
              "    <tr>\n",
              "      <th>2</th>\n",
              "      <td>2.0</td>\n",
              "      <td>3.0</td>\n",
              "      <td>5</td>\n",
              "    </tr>\n",
              "    <tr>\n",
              "      <th>3</th>\n",
              "      <td>NaN</td>\n",
              "      <td>4.0</td>\n",
              "      <td>6</td>\n",
              "    </tr>\n",
              "  </tbody>\n",
              "</table>\n",
              "</div>"
            ],
            "text/plain": [
              "     0    1  2\n",
              "0  1.0  NaN  2\n",
              "1  2.0  3.0  5\n",
              "2  2.0  3.0  5\n",
              "3  NaN  4.0  6"
            ]
          },
          "execution_count": 23,
          "metadata": {},
          "output_type": "execute_result"
        }
      ],
      "source": [
        "df"
      ]
    },
    {
      "cell_type": "code",
      "execution_count": 24,
      "metadata": {
        "colab": {
          "base_uri": "https://localhost:8080/",
          "height": 175
        },
        "id": "WGHEh5sJptnE",
        "outputId": "80076ab8-e0ee-49f0-ea19-749d89ad6bf9"
      },
      "outputs": [
        {
          "data": {
            "text/html": [
              "<div>\n",
              "<style scoped>\n",
              "    .dataframe tbody tr th:only-of-type {\n",
              "        vertical-align: middle;\n",
              "    }\n",
              "\n",
              "    .dataframe tbody tr th {\n",
              "        vertical-align: top;\n",
              "    }\n",
              "\n",
              "    .dataframe thead th {\n",
              "        text-align: right;\n",
              "    }\n",
              "</style>\n",
              "<table border=\"1\" class=\"dataframe\">\n",
              "  <thead>\n",
              "    <tr style=\"text-align: right;\">\n",
              "      <th></th>\n",
              "      <th>0</th>\n",
              "      <th>1</th>\n",
              "      <th>2</th>\n",
              "    </tr>\n",
              "  </thead>\n",
              "  <tbody>\n",
              "    <tr>\n",
              "      <th>0</th>\n",
              "      <td>1.0</td>\n",
              "      <td>0.0</td>\n",
              "      <td>2</td>\n",
              "    </tr>\n",
              "    <tr>\n",
              "      <th>1</th>\n",
              "      <td>2.0</td>\n",
              "      <td>3.0</td>\n",
              "      <td>5</td>\n",
              "    </tr>\n",
              "    <tr>\n",
              "      <th>2</th>\n",
              "      <td>2.0</td>\n",
              "      <td>3.0</td>\n",
              "      <td>5</td>\n",
              "    </tr>\n",
              "    <tr>\n",
              "      <th>3</th>\n",
              "      <td>0.0</td>\n",
              "      <td>4.0</td>\n",
              "      <td>6</td>\n",
              "    </tr>\n",
              "  </tbody>\n",
              "</table>\n",
              "</div>"
            ],
            "text/plain": [
              "     0    1  2\n",
              "0  1.0  0.0  2\n",
              "1  2.0  3.0  5\n",
              "2  2.0  3.0  5\n",
              "3  0.0  4.0  6"
            ]
          },
          "execution_count": 24,
          "metadata": {},
          "output_type": "execute_result"
        }
      ],
      "source": [
        "# One option we have is to specify what we want the NaN values to be replaced with.\n",
        "# Here, I'm saying that I would like to replace all the NaN values with 0.\n",
        "df.fillna(0)"
      ]
    },
    {
      "cell_type": "code",
      "execution_count": 25,
      "metadata": {
        "colab": {
          "base_uri": "https://localhost:8080/"
        },
        "id": "Grt7fXYzptnG",
        "outputId": "585f5b92-a14a-4a34-c185-7894c950f9ef"
      },
      "outputs": [
        {
          "data": {
            "text/plain": [
              "0    1.666667\n",
              "1    3.333333\n",
              "2    4.500000\n",
              "dtype: float64"
            ]
          },
          "execution_count": 25,
          "metadata": {},
          "output_type": "execute_result"
        }
      ],
      "source": [
        "# calculate the mean\n",
        "# skip the Na values while finding the mean\n",
        "\n",
        "# Calculate the mean (average) of each column in the DataFrame 'df'.\n",
        "# The parameter 'axis=0' specifies that the calculation is performed along the columns.\n",
        "# Here, axis=0 refers to columns, indicating that the mean is calculated for each column.\n",
        "# The parameter 'skipna=True' indicates that any missing values (NaN) should be skipped during the calculation.\n",
        "# If skipna=True, NaN values are excluded from the calculation and do not contribute to the mean.\n",
        "# The mean values are returned as a Series with the column names as index labels.\n",
        "\n",
        "df.mean(axis = 0, skipna = True)"
      ]
    },
    {
      "cell_type": "code",
      "execution_count": 26,
      "metadata": {
        "colab": {
          "base_uri": "https://localhost:8080/",
          "height": 175
        },
        "id": "vrwKiVv0ptnI",
        "outputId": "0cfe30bc-5284-49d9-8951-5ff51f2f4b73"
      },
      "outputs": [
        {
          "data": {
            "text/html": [
              "<div>\n",
              "<style scoped>\n",
              "    .dataframe tbody tr th:only-of-type {\n",
              "        vertical-align: middle;\n",
              "    }\n",
              "\n",
              "    .dataframe tbody tr th {\n",
              "        vertical-align: top;\n",
              "    }\n",
              "\n",
              "    .dataframe thead th {\n",
              "        text-align: right;\n",
              "    }\n",
              "</style>\n",
              "<table border=\"1\" class=\"dataframe\">\n",
              "  <thead>\n",
              "    <tr style=\"text-align: right;\">\n",
              "      <th></th>\n",
              "      <th>0</th>\n",
              "      <th>1</th>\n",
              "      <th>2</th>\n",
              "    </tr>\n",
              "  </thead>\n",
              "  <tbody>\n",
              "    <tr>\n",
              "      <th>0</th>\n",
              "      <td>1.0</td>\n",
              "      <td>3.3</td>\n",
              "      <td>2</td>\n",
              "    </tr>\n",
              "    <tr>\n",
              "      <th>1</th>\n",
              "      <td>2.0</td>\n",
              "      <td>3.0</td>\n",
              "      <td>5</td>\n",
              "    </tr>\n",
              "    <tr>\n",
              "      <th>2</th>\n",
              "      <td>2.0</td>\n",
              "      <td>3.0</td>\n",
              "      <td>5</td>\n",
              "    </tr>\n",
              "    <tr>\n",
              "      <th>3</th>\n",
              "      <td>NaN</td>\n",
              "      <td>4.0</td>\n",
              "      <td>6</td>\n",
              "    </tr>\n",
              "  </tbody>\n",
              "</table>\n",
              "</div>"
            ],
            "text/plain": [
              "     0    1  2\n",
              "0  1.0  3.3  2\n",
              "1  2.0  3.0  5\n",
              "2  2.0  3.0  5\n",
              "3  NaN  4.0  6"
            ]
          },
          "execution_count": 26,
          "metadata": {},
          "output_type": "execute_result"
        }
      ],
      "source": [
        "# use the mean to fill the gaps in that column\n",
        "\n",
        "# Fill missing values in column 1 of the DataFrame 'df' with the value 3.3.\n",
        "# df[1] selects the column with index 1 (second column) from the DataFrame.\n",
        "# The fillna() function is then used to replace any missing values (NaN) in that column with the value 3.3.\n",
        "# This operation modifies the original DataFrame 'df' in place.\n",
        "\n",
        "df[1]=df[1].fillna(3.3)\n",
        "df"
      ]
    },
    {
      "cell_type": "code",
      "execution_count": 27,
      "metadata": {
        "colab": {
          "base_uri": "https://localhost:8080/",
          "height": 175
        },
        "id": "QlucXcvTptnL",
        "outputId": "3b6444a6-0bed-4ab9-c693-46cb481de09f"
      },
      "outputs": [
        {
          "data": {
            "text/html": [
              "<div>\n",
              "<style scoped>\n",
              "    .dataframe tbody tr th:only-of-type {\n",
              "        vertical-align: middle;\n",
              "    }\n",
              "\n",
              "    .dataframe tbody tr th {\n",
              "        vertical-align: top;\n",
              "    }\n",
              "\n",
              "    .dataframe thead th {\n",
              "        text-align: right;\n",
              "    }\n",
              "</style>\n",
              "<table border=\"1\" class=\"dataframe\">\n",
              "  <thead>\n",
              "    <tr style=\"text-align: right;\">\n",
              "      <th></th>\n",
              "      <th>0</th>\n",
              "      <th>1</th>\n",
              "      <th>2</th>\n",
              "    </tr>\n",
              "  </thead>\n",
              "  <tbody>\n",
              "    <tr>\n",
              "      <th>0</th>\n",
              "      <td>1.0</td>\n",
              "      <td>3.3</td>\n",
              "      <td>2</td>\n",
              "    </tr>\n",
              "    <tr>\n",
              "      <th>1</th>\n",
              "      <td>2.0</td>\n",
              "      <td>3.0</td>\n",
              "      <td>5</td>\n",
              "    </tr>\n",
              "    <tr>\n",
              "      <th>2</th>\n",
              "      <td>2.0</td>\n",
              "      <td>3.0</td>\n",
              "      <td>5</td>\n",
              "    </tr>\n",
              "    <tr>\n",
              "      <th>3</th>\n",
              "      <td>NaN</td>\n",
              "      <td>4.0</td>\n",
              "      <td>6</td>\n",
              "    </tr>\n",
              "  </tbody>\n",
              "</table>\n",
              "</div>"
            ],
            "text/plain": [
              "     0    1  2\n",
              "0  1.0  3.3  2\n",
              "1  2.0  3.0  5\n",
              "2  2.0  3.0  5\n",
              "3  NaN  4.0  6"
            ]
          },
          "execution_count": 27,
          "metadata": {},
          "output_type": "execute_result"
        }
      ],
      "source": [
        "# We can specify a backfill use next valid observation to fill the actual gap.\n",
        "\n",
        "# Fill missing values in the DataFrame 'df' using backward fill (bfill) method.\n",
        "# The method parameter is set to 'bfill', which means missing values are replaced with the next valid observation\n",
        "# along the specified axis. When applied to a DataFrame, missing values are filled with the value from the next row\n",
        "# within the same column. This effectively propagates the last valid observation backward along the specified axis.\n",
        "\n",
        "df.fillna(method='bfill')"
      ]
    },
    {
      "cell_type": "code",
      "execution_count": 28,
      "metadata": {
        "colab": {
          "base_uri": "https://localhost:8080/",
          "height": 175
        },
        "id": "FO9ZGk75ptnM",
        "outputId": "96df39c9-2746-4b86-db58-265a46e3bd73"
      },
      "outputs": [
        {
          "data": {
            "text/html": [
              "<div>\n",
              "<style scoped>\n",
              "    .dataframe tbody tr th:only-of-type {\n",
              "        vertical-align: middle;\n",
              "    }\n",
              "\n",
              "    .dataframe tbody tr th {\n",
              "        vertical-align: top;\n",
              "    }\n",
              "\n",
              "    .dataframe thead th {\n",
              "        text-align: right;\n",
              "    }\n",
              "</style>\n",
              "<table border=\"1\" class=\"dataframe\">\n",
              "  <thead>\n",
              "    <tr style=\"text-align: right;\">\n",
              "      <th></th>\n",
              "      <th>0</th>\n",
              "      <th>1</th>\n",
              "      <th>2</th>\n",
              "    </tr>\n",
              "  </thead>\n",
              "  <tbody>\n",
              "    <tr>\n",
              "      <th>0</th>\n",
              "      <td>1.0</td>\n",
              "      <td>3.3</td>\n",
              "      <td>2</td>\n",
              "    </tr>\n",
              "    <tr>\n",
              "      <th>1</th>\n",
              "      <td>2.0</td>\n",
              "      <td>3.0</td>\n",
              "      <td>5</td>\n",
              "    </tr>\n",
              "    <tr>\n",
              "      <th>2</th>\n",
              "      <td>2.0</td>\n",
              "      <td>3.0</td>\n",
              "      <td>5</td>\n",
              "    </tr>\n",
              "    <tr>\n",
              "      <th>3</th>\n",
              "      <td>2.0</td>\n",
              "      <td>4.0</td>\n",
              "      <td>6</td>\n",
              "    </tr>\n",
              "  </tbody>\n",
              "</table>\n",
              "</div>"
            ],
            "text/plain": [
              "     0    1  2\n",
              "0  1.0  3.3  2\n",
              "1  2.0  3.0  5\n",
              "2  2.0  3.0  5\n",
              "3  2.0  4.0  6"
            ]
          },
          "execution_count": 28,
          "metadata": {},
          "output_type": "execute_result"
        }
      ],
      "source": [
        "# We can specify a forward-fill use previous valid observation to fill the actual gap\n",
        "df.fillna(method='ffill')"
      ]
    },
    {
      "cell_type": "markdown",
      "metadata": {},
      "source": [
        "## Resumen\n",
        "En esta sección se usó .fillna() para rellenar los datos faltantes, es posible cambiar los datos por un valor especifico arbitrario, o calcular el promedio y rellenar los datos faltantes con el promedio. De igual manera se puede usar el metodo .ffill() para rellenar los datos faltantes con el valor anterior, o .bfill() para rellenar los datos faltantes con el valor siguiente."
      ]
    }
  ],
  "metadata": {
    "colab": {
      "provenance": []
    },
    "kernelspec": {
      "display_name": "Python 3 (ipykernel)",
      "language": "python",
      "name": "python3"
    },
    "language_info": {
      "codemirror_mode": {
        "name": "ipython",
        "version": 3
      },
      "file_extension": ".py",
      "mimetype": "text/x-python",
      "name": "python",
      "nbconvert_exporter": "python",
      "pygments_lexer": "ipython3",
      "version": "3.12.1"
    }
  },
  "nbformat": 4,
  "nbformat_minor": 0
}
