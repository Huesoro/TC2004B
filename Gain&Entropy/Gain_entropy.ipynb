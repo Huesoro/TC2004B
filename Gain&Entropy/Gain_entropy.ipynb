{
 "cells": [
  {
   "cell_type": "markdown",
   "metadata": {},
   "source": [
    "Se importan las librerias"
   ]
  },
  {
   "cell_type": "code",
   "execution_count": 138,
   "metadata": {},
   "outputs": [],
   "source": [
    "import numpy as np\n",
    "import pandas as pd"
   ]
  },
  {
   "cell_type": "markdown",
   "metadata": {},
   "source": [
    "Se hace una función para obtener la entropia de los valores de class"
   ]
  },
  {
   "cell_type": "code",
   "execution_count": 139,
   "metadata": {},
   "outputs": [],
   "source": [
    "def Entropy(x,y):\n",
    "    if x == 0 or y == 0:\n",
    "        return 0\n",
    "    return -x/(x+y)*np.log2(x/(x+y))-y/(x+y)*np.log2(y/(x+y))"
   ]
  },
  {
   "cell_type": "markdown",
   "metadata": {},
   "source": [
    "Se crea el dataframe"
   ]
  },
  {
   "cell_type": "code",
   "execution_count": 140,
   "metadata": {},
   "outputs": [],
   "source": [
    "df = pd.DataFrame({'Age': [\"young\", 'young', 'young', 'young',\"middle\",\"middle\",\"middle\",\"middle\",\"old\",\"old\",\"old\",\"old\",\"old\"],\n",
    "                   \"Has_job\":[False,False,True,True,False,True,False,False,False,False,True,True,False],\n",
    "                   \"Own_house\":[False,False,False,True,False,True,True,True,True,True,False,False,False],\n",
    "                   \"Credit_Rating\":[\"fair\",\"excellent\",\"good\",\"good\",\"good\",\"good\",\"excellent\",\"excellent\",\"excellent\",\"good\",\"good\",\"excellent\",\"fair\"],\n",
    "                   \"Class\": [\"no\",\"no\",\"yes\",\"yes\",\"no\",\"yes\",\"yes\",\"yes\",\"yes\",\"yes\",\"yes\",\"no\",\"yes\"]})"
   ]
  },
  {
   "cell_type": "markdown",
   "metadata": {},
   "source": [
    "En este caso se eliminaron los registros 5 y 6 de la base de datos original"
   ]
  },
  {
   "cell_type": "code",
   "execution_count": 141,
   "metadata": {},
   "outputs": [
    {
     "data": {
      "text/html": [
       "<div>\n",
       "<style scoped>\n",
       "    .dataframe tbody tr th:only-of-type {\n",
       "        vertical-align: middle;\n",
       "    }\n",
       "\n",
       "    .dataframe tbody tr th {\n",
       "        vertical-align: top;\n",
       "    }\n",
       "\n",
       "    .dataframe thead th {\n",
       "        text-align: right;\n",
       "    }\n",
       "</style>\n",
       "<table border=\"1\" class=\"dataframe\">\n",
       "  <thead>\n",
       "    <tr style=\"text-align: right;\">\n",
       "      <th></th>\n",
       "      <th>Age</th>\n",
       "      <th>Has_job</th>\n",
       "      <th>Own_house</th>\n",
       "      <th>Credit_Rating</th>\n",
       "      <th>Class</th>\n",
       "    </tr>\n",
       "  </thead>\n",
       "  <tbody>\n",
       "    <tr>\n",
       "      <th>0</th>\n",
       "      <td>young</td>\n",
       "      <td>False</td>\n",
       "      <td>False</td>\n",
       "      <td>fair</td>\n",
       "      <td>no</td>\n",
       "    </tr>\n",
       "    <tr>\n",
       "      <th>1</th>\n",
       "      <td>young</td>\n",
       "      <td>False</td>\n",
       "      <td>False</td>\n",
       "      <td>excellent</td>\n",
       "      <td>no</td>\n",
       "    </tr>\n",
       "    <tr>\n",
       "      <th>2</th>\n",
       "      <td>young</td>\n",
       "      <td>True</td>\n",
       "      <td>False</td>\n",
       "      <td>good</td>\n",
       "      <td>yes</td>\n",
       "    </tr>\n",
       "    <tr>\n",
       "      <th>3</th>\n",
       "      <td>young</td>\n",
       "      <td>True</td>\n",
       "      <td>True</td>\n",
       "      <td>good</td>\n",
       "      <td>yes</td>\n",
       "    </tr>\n",
       "    <tr>\n",
       "      <th>4</th>\n",
       "      <td>middle</td>\n",
       "      <td>False</td>\n",
       "      <td>False</td>\n",
       "      <td>good</td>\n",
       "      <td>no</td>\n",
       "    </tr>\n",
       "    <tr>\n",
       "      <th>5</th>\n",
       "      <td>middle</td>\n",
       "      <td>True</td>\n",
       "      <td>True</td>\n",
       "      <td>good</td>\n",
       "      <td>yes</td>\n",
       "    </tr>\n",
       "    <tr>\n",
       "      <th>6</th>\n",
       "      <td>middle</td>\n",
       "      <td>False</td>\n",
       "      <td>True</td>\n",
       "      <td>excellent</td>\n",
       "      <td>yes</td>\n",
       "    </tr>\n",
       "    <tr>\n",
       "      <th>7</th>\n",
       "      <td>middle</td>\n",
       "      <td>False</td>\n",
       "      <td>True</td>\n",
       "      <td>excellent</td>\n",
       "      <td>yes</td>\n",
       "    </tr>\n",
       "    <tr>\n",
       "      <th>8</th>\n",
       "      <td>old</td>\n",
       "      <td>False</td>\n",
       "      <td>True</td>\n",
       "      <td>excellent</td>\n",
       "      <td>yes</td>\n",
       "    </tr>\n",
       "    <tr>\n",
       "      <th>9</th>\n",
       "      <td>old</td>\n",
       "      <td>False</td>\n",
       "      <td>True</td>\n",
       "      <td>good</td>\n",
       "      <td>yes</td>\n",
       "    </tr>\n",
       "    <tr>\n",
       "      <th>10</th>\n",
       "      <td>old</td>\n",
       "      <td>True</td>\n",
       "      <td>False</td>\n",
       "      <td>good</td>\n",
       "      <td>yes</td>\n",
       "    </tr>\n",
       "    <tr>\n",
       "      <th>11</th>\n",
       "      <td>old</td>\n",
       "      <td>True</td>\n",
       "      <td>False</td>\n",
       "      <td>excellent</td>\n",
       "      <td>no</td>\n",
       "    </tr>\n",
       "    <tr>\n",
       "      <th>12</th>\n",
       "      <td>old</td>\n",
       "      <td>False</td>\n",
       "      <td>False</td>\n",
       "      <td>fair</td>\n",
       "      <td>yes</td>\n",
       "    </tr>\n",
       "  </tbody>\n",
       "</table>\n",
       "</div>"
      ],
      "text/plain": [
       "       Age  Has_job  Own_house Credit_Rating Class\n",
       "0    young    False      False          fair    no\n",
       "1    young    False      False     excellent    no\n",
       "2    young     True      False          good   yes\n",
       "3    young     True       True          good   yes\n",
       "4   middle    False      False          good    no\n",
       "5   middle     True       True          good   yes\n",
       "6   middle    False       True     excellent   yes\n",
       "7   middle    False       True     excellent   yes\n",
       "8      old    False       True     excellent   yes\n",
       "9      old    False       True          good   yes\n",
       "10     old     True      False          good   yes\n",
       "11     old     True      False     excellent    no\n",
       "12     old    False      False          fair   yes"
      ]
     },
     "execution_count": 141,
     "metadata": {},
     "output_type": "execute_result"
    }
   ],
   "source": [
    "df"
   ]
  },
  {
   "cell_type": "markdown",
   "metadata": {},
   "source": [
    "Se usa value counts para obtener la cantidad de valores de la columna clase"
   ]
  },
  {
   "cell_type": "code",
   "execution_count": 142,
   "metadata": {},
   "outputs": [
    {
     "data": {
      "text/plain": [
       "yes    9\n",
       "no     4\n",
       "Name: Class, dtype: int64"
      ]
     },
     "execution_count": 142,
     "metadata": {},
     "output_type": "execute_result"
    }
   ],
   "source": [
    "df['Class'].value_counts()"
   ]
  },
  {
   "cell_type": "markdown",
   "metadata": {},
   "source": [
    "Al usar entropy se obtiene la entropia de los valores de la columna clase"
   ]
  },
  {
   "cell_type": "code",
   "execution_count": 143,
   "metadata": {},
   "outputs": [
    {
     "name": "stdout",
     "output_type": "stream",
     "text": [
      "0.8904916402194913\n"
     ]
    }
   ],
   "source": [
    "entropy = Entropy(9,4)\n",
    "print(entropy)"
   ]
  },
  {
   "cell_type": "markdown",
   "metadata": {},
   "source": [
    "Se crea una función para obtener la entropia por cada variable de la columna y se aplica de manera sistemática"
   ]
  },
  {
   "cell_type": "code",
   "execution_count": 144,
   "metadata": {},
   "outputs": [],
   "source": [
    "def entropy_attribute(x,y):\n",
    "    return (x+y)/13*Entropy(x,y)"
   ]
  },
  {
   "cell_type": "code",
   "execution_count": 145,
   "metadata": {},
   "outputs": [
    {
     "data": {
      "text/plain": [
       "Age     Class\n",
       "middle  yes      3\n",
       "        no       1\n",
       "old     yes      4\n",
       "        no       1\n",
       "young   no       2\n",
       "        yes      2\n",
       "Name: Class, dtype: int64"
      ]
     },
     "execution_count": 145,
     "metadata": {},
     "output_type": "execute_result"
    }
   ],
   "source": [
    "df[\"Class\"].groupby(df[\"Age\"]).value_counts()"
   ]
  },
  {
   "cell_type": "code",
   "execution_count": 146,
   "metadata": {},
   "outputs": [
    {
     "name": "stdout",
     "output_type": "stream",
     "text": [
      "young: 0.3076923076923077 middle: 0.2496240382951178 old: 0.27766465187975475\n",
      "Age entropy:  0.8349809978671803\n",
      "Gain: 0.05551064235231107\n"
     ]
    }
   ],
   "source": [
    "middle = entropy_attribute(3,1)\n",
    "old = entropy_attribute(4,1)\n",
    "young= entropy_attribute(2,2)\n",
    "Age_entropy = middle + old + young\n",
    "print(\"young:\",young, \"middle:\",middle, \"old:\",old)\n",
    "print(\"Age entropy: \",Age_entropy)\n",
    "age_gain = entropy - Age_entropy\n",
    "print(\"Gain:\",age_gain)"
   ]
  },
  {
   "cell_type": "code",
   "execution_count": 147,
   "metadata": {},
   "outputs": [
    {
     "data": {
      "text/plain": [
       "Has_job  Class\n",
       "False    yes      5\n",
       "         no       3\n",
       "True     yes      4\n",
       "         no       1\n",
       "Name: Class, dtype: int64"
      ]
     },
     "execution_count": 147,
     "metadata": {},
     "output_type": "execute_result"
    }
   ],
   "source": [
    "df[\"Class\"].groupby(df[\"Has_job\"]).value_counts()"
   ]
  },
  {
   "cell_type": "code",
   "execution_count": 148,
   "metadata": {},
   "outputs": [
    {
     "name": "stdout",
     "output_type": "stream",
     "text": [
      "Has job: 0.27766465187975475 Unemployed: 0.5873440017999785\n",
      "Job entropy:  0.8650086536797332\n",
      "Gain: 0.025482986539758112\n"
     ]
    }
   ],
   "source": [
    "Has_job_entropy = entropy_attribute(4,1)\n",
    "dont_job_entropy = entropy_attribute(5,3)\n",
    "Job_entropy = Has_job_entropy + dont_job_entropy\n",
    "print(\"Has job:\",Has_job_entropy, \"Unemployed:\",dont_job_entropy)\n",
    "print(\"Job entropy: \",Job_entropy)\n",
    "job_gain = entropy - Job_entropy\n",
    "print(\"Gain:\",job_gain)"
   ]
  },
  {
   "cell_type": "code",
   "execution_count": 149,
   "metadata": {},
   "outputs": [
    {
     "data": {
      "text/plain": [
       "Own_house  Class\n",
       "False      no       4\n",
       "           yes      3\n",
       "True       yes      6\n",
       "Name: Class, dtype: int64"
      ]
     },
     "execution_count": 149,
     "metadata": {},
     "output_type": "execute_result"
    }
   ],
   "source": [
    "df[\"Class\"].groupby(df[\"Own_house\"]).value_counts()"
   ]
  },
  {
   "cell_type": "code",
   "execution_count": 150,
   "metadata": {},
   "outputs": [
    {
     "name": "stdout",
     "output_type": "stream",
     "text": [
      "Own house: 0.0 Homeless: 0.530507457864597\n",
      "House entropy:  0.530507457864597\n",
      "Gain: 0.3599841823548944\n"
     ]
    }
   ],
   "source": [
    "Has_jouse = entropy_attribute(6,0)\n",
    "Homeless = entropy_attribute(3,4)\n",
    "House_entropy= Has_jouse + Homeless\n",
    "print(\"Own house:\",Has_jouse, \"Homeless:\",Homeless)\n",
    "print(\"House entropy: \",House_entropy)\n",
    "house_gain = entropy - House_entropy\n",
    "print(\"Gain:\",house_gain)"
   ]
  },
  {
   "cell_type": "code",
   "execution_count": 151,
   "metadata": {},
   "outputs": [
    {
     "data": {
      "text/plain": [
       "Credit_Rating  Class\n",
       "excellent      yes      3\n",
       "               no       2\n",
       "fair           no       1\n",
       "               yes      1\n",
       "good           yes      5\n",
       "               no       1\n",
       "Name: Class, dtype: int64"
      ]
     },
     "execution_count": 151,
     "metadata": {},
     "output_type": "execute_result"
    }
   ],
   "source": [
    "df[\"Class\"].groupby(df[\"Credit_Rating\"]).value_counts()"
   ]
  },
  {
   "cell_type": "code",
   "execution_count": 152,
   "metadata": {},
   "outputs": [
    {
     "name": "stdout",
     "output_type": "stream",
     "text": [
      "Excellent: 0.3734425363287187 Good: 0.30001034845308655 Fair: 0.15384615384615385\n",
      "Credit entropy:  0.8272990386279592\n",
      "Gain: 0.06319260159153217\n"
     ]
    }
   ],
   "source": [
    "excellent_entropy=entropy_attribute(3,2)\n",
    "good_entropy=entropy_attribute(5,1)\n",
    "fair_entropy=entropy_attribute(1,1)\n",
    "credit_entropy=excellent_entropy+good_entropy+fair_entropy\n",
    "print(\"Excellent:\",excellent_entropy, \"Good:\",good_entropy, \"Fair:\",fair_entropy)\n",
    "print(\"Credit entropy: \",credit_entropy)\n",
    "credit_gain = entropy - credit_entropy\n",
    "print(\"Gain:\",credit_gain)"
   ]
  },
  {
   "cell_type": "markdown",
   "metadata": {},
   "source": [
    "El mejor atributo para empezar sería el que tenga mejor ganancia de información, por esto se imprime cada valor para comparar"
   ]
  },
  {
   "cell_type": "code",
   "execution_count": 155,
   "metadata": {},
   "outputs": [
    {
     "name": "stdout",
     "output_type": "stream",
     "text": [
      "Age gain: 0.05551064235231107 \n",
      "Job gain: 0.025482986539758112 \n",
      "House gain: 0.3599841823548944 \n",
      "Credit gain: 0.06319260159153217\n"
     ]
    }
   ],
   "source": [
    "print(\"Age gain:\",age_gain, \"\\nJob gain:\",job_gain, \"\\nHouse gain:\",house_gain, \"\\nCredit gain:\",credit_gain)"
   ]
  },
  {
   "cell_type": "markdown",
   "metadata": {},
   "source": [
    "En este caso, el mejor atributo para empezar sería el atributo si tiene o no casa."
   ]
  }
 ],
 "metadata": {
  "kernelspec": {
   "display_name": "base",
   "language": "python",
   "name": "python3"
  },
  "language_info": {
   "codemirror_mode": {
    "name": "ipython",
    "version": 3
   },
   "file_extension": ".py",
   "mimetype": "text/x-python",
   "name": "python",
   "nbconvert_exporter": "python",
   "pygments_lexer": "ipython3",
   "version": "3.10.9"
  }
 },
 "nbformat": 4,
 "nbformat_minor": 2
}
